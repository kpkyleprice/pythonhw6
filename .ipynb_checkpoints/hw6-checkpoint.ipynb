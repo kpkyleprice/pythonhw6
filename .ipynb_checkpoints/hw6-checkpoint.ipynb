{
 "cells": [
  {
   "cell_type": "code",
   "execution_count": 12,
   "id": "e90b0722",
   "metadata": {},
   "outputs": [
    {
     "name": "stdout",
     "output_type": "stream",
     "text": [
      "Abraham Lincoln\n",
      "Andrew P Garfield\n",
      "Connor Milliken\n",
      "Jordan Alexander Williams\n",
      "none\n",
      "none\n"
     ]
    }
   ],
   "source": [
    "import re\n",
    "with open(\"regex_test.txt\") as f:\n",
    "    data = f.readlines()\n",
    "    \n",
    "for name in data:\n",
    "    pattern = re.compile(\"([A-Z][a-z]+) ([A-Za-z].*)\")\n",
    "    match = pattern.search(name)\n",
    "    if match:\n",
    "        print(f'{match.group(1)} {match.group(2)}')\n",
    "    else:\n",
    "        print('none')"
   ]
  },
  {
   "cell_type": "code",
   "execution_count": 15,
   "id": "a758a7c7",
   "metadata": {},
   "outputs": [
    {
     "name": "stdout",
     "output_type": "stream",
     "text": [
      "['12', '4', '43', '2', '6']\n"
     ]
    }
   ],
   "source": [
    "\n",
    "pattern = re.compile('[\\d]+')\n",
    "\n",
    "num_pattern = pattern.findall('I had 12 glasses of water and 4 sandwiches i am 43 years old and have 2 dogs and 6 cats')\n",
    "\n",
    "print(num_pattern)"
   ]
  },
  {
   "cell_type": "code",
   "execution_count": 19,
   "id": "7213b21d",
   "metadata": {},
   "outputs": [
    {
     "name": "stdout",
     "output_type": "stream",
     "text": [
      "none\n",
      "pocohontas1776@gmail.com\n",
      "none\n",
      "yourfavoriteband@g6.org\n",
      "none\n"
     ]
    }
   ],
   "source": [
    "emails = [\"jordanw@codingtemple.orgcom\", \"pocohontas1776@gmail.com\", \"helloworld@aol..com\",\n",
    "             \"yourfavoriteband@g6.org\", \"@codingtemple.com\"]\n",
    "\n",
    "for email in emails:\n",
    "    pattern = re.compile(\"[a-z0-9]+@[a-z0-9]+(.com|.org)$\")\n",
    "    match = pattern.search(email)\n",
    "    if match:\n",
    "        print(email)\n",
    "    else:\n",
    "        print(\"none\")"
   ]
  },
  {
   "cell_type": "code",
   "execution_count": 21,
   "id": "a5994dd7",
   "metadata": {},
   "outputs": [
    {
     "name": "stdout",
     "output_type": "stream",
     "text": [
      "Hawkins Derek @derekhawkins\n",
      "Osterberg Sven @sverik\n",
      "Butz Ryan @ryanbutz\n",
      "Exampleson Example @example\n",
      "Pael Ripal @ripalp\n",
      "Vader Darth @darthvader\n"
     ]
    }
   ],
   "source": [
    "with open(\"names.txt\") as f:\n",
    "    data = f.readlines()\n",
    "    \n",
    "for name in data:\n",
    "    pattern = re.compile(\"([A-Za-z]+), ([A-Za-z]+).*(@[a-z]+)$\")\n",
    "    match = pattern.search(name)\n",
    "    if match:\n",
    "        print(f'{match.group(1)} {match.group(2)} {match.group(3)}')"
   ]
  },
  {
   "cell_type": "code",
   "execution_count": null,
   "id": "8f37dd57",
   "metadata": {},
   "outputs": [],
   "source": []
  },
  {
   "cell_type": "code",
   "execution_count": null,
   "id": "229aeaf1",
   "metadata": {},
   "outputs": [],
   "source": []
  },
  {
   "cell_type": "code",
   "execution_count": null,
   "id": "93cf3f4d",
   "metadata": {},
   "outputs": [],
   "source": []
  },
  {
   "cell_type": "code",
   "execution_count": null,
   "id": "5571a601",
   "metadata": {},
   "outputs": [],
   "source": []
  }
 ],
 "metadata": {
  "kernelspec": {
   "display_name": "Python 3 (ipykernel)",
   "language": "python",
   "name": "python3"
  },
  "language_info": {
   "codemirror_mode": {
    "name": "ipython",
    "version": 3
   },
   "file_extension": ".py",
   "mimetype": "text/x-python",
   "name": "python",
   "nbconvert_exporter": "python",
   "pygments_lexer": "ipython3",
   "version": "3.9.13"
  }
 },
 "nbformat": 4,
 "nbformat_minor": 5
}
